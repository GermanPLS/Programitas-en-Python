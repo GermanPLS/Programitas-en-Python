{
  "nbformat": 4,
  "nbformat_minor": 0,
  "metadata": {
    "colab": {
      "provenance": []
    },
    "kernelspec": {
      "name": "python3",
      "display_name": "Python 3"
    },
    "language_info": {
      "name": "python"
    }
  },
  "cells": [
    {
      "cell_type": "code",
      "execution_count": null,
      "metadata": {
        "id": "hrvDSi1ZVxQW"
      },
      "outputs": [],
      "source": [
        "import pandas as pd"
      ]
    },
    {
      "cell_type": "code",
      "source": [
        "# creo una tupla\n",
        "\n",
        "data = (110,202,303,404,550,650)"
      ],
      "metadata": {
        "id": "dG-1R65mX5Bi"
      },
      "execution_count": null,
      "outputs": []
    },
    {
      "cell_type": "code",
      "source": [
        "type(data)"
      ],
      "metadata": {
        "colab": {
          "base_uri": "https://localhost:8080/"
        },
        "id": "PCvf9ZdEpwD6",
        "outputId": "3f10d91c-f51d-4f74-a7a6-67665305aeaa"
      },
      "execution_count": null,
      "outputs": [
        {
          "output_type": "execute_result",
          "data": {
            "text/plain": [
              "tuple"
            ]
          },
          "metadata": {},
          "execution_count": 7
        }
      ]
    },
    {
      "cell_type": "code",
      "source": [
        "# creo una lista de numeros\n",
        "\n",
        "lista_numeros = [1, 14, 3, 66, 10]\n",
        "\n",
        "\n",
        "print(lista_numeros)\n",
        "\n"
      ],
      "metadata": {
        "colab": {
          "base_uri": "https://localhost:8080/"
        },
        "id": "5rf1xvPYp8QB",
        "outputId": "64805c9a-5840-4b4d-d5b7-b9e94fe713fe"
      },
      "execution_count": null,
      "outputs": [
        {
          "output_type": "stream",
          "name": "stdout",
          "text": [
            "[1, 14, 3, 66, 10]\n"
          ]
        }
      ]
    },
    {
      "cell_type": "code",
      "source": [
        "type(lista_numeros)"
      ],
      "metadata": {
        "colab": {
          "base_uri": "https://localhost:8080/"
        },
        "id": "JuNjKiBZqeBV",
        "outputId": "7857538d-bceb-4b74-a59c-2030950be2b7"
      },
      "execution_count": null,
      "outputs": [
        {
          "output_type": "execute_result",
          "data": {
            "text/plain": [
              "list"
            ]
          },
          "metadata": {},
          "execution_count": 10
        }
      ]
    },
    {
      "cell_type": "code",
      "source": [
        "#imprimo el datafame vacio\n",
        "print(df)"
      ],
      "metadata": {
        "colab": {
          "base_uri": "https://localhost:8080/"
        },
        "id": "f97hKRptXEGb",
        "outputId": "74efd676-5c2b-4e4e-aaca-fca63d31e2e5"
      },
      "execution_count": null,
      "outputs": [
        {
          "output_type": "stream",
          "name": "stdout",
          "text": [
            "Empty DataFrame\n",
            "Columns: []\n",
            "Index: []\n"
          ]
        }
      ]
    },
    {
      "cell_type": "code",
      "source": [
        "# creando un Datafame vacio y guardandolo en una variable df\n",
        "\n",
        "df = pd.DataFrame()"
      ],
      "metadata": {
        "id": "k39knEDcW4cr"
      },
      "execution_count": null,
      "outputs": []
    },
    {
      "cell_type": "code",
      "source": [
        "print(data)"
      ],
      "metadata": {
        "colab": {
          "base_uri": "https://localhost:8080/"
        },
        "id": "0M76E11AYEFS",
        "outputId": "fbf802fe-4bbc-475e-c9a5-c739e07ef7f0"
      },
      "execution_count": null,
      "outputs": [
        {
          "output_type": "stream",
          "name": "stdout",
          "text": [
            "(110, 202, 303, 404, 550, 650)\n"
          ]
        }
      ]
    },
    {
      "cell_type": "code",
      "source": [
        "df = pd.DataFrame(data, columns = ['Cantidades'])"
      ],
      "metadata": {
        "id": "soJhGydkZCLJ"
      },
      "execution_count": null,
      "outputs": []
    },
    {
      "cell_type": "code",
      "source": [
        "print(df)"
      ],
      "metadata": {
        "colab": {
          "base_uri": "https://localhost:8080/"
        },
        "id": "rj6wQMGqZYQj",
        "outputId": "08910cdf-684e-45ab-867c-2f4415ab5db2"
      },
      "execution_count": null,
      "outputs": [
        {
          "output_type": "stream",
          "name": "stdout",
          "text": [
            "   Cantidades\n",
            "0         110\n",
            "1         202\n",
            "2         303\n",
            "3         404\n",
            "4         550\n",
            "5         650\n"
          ]
        }
      ]
    },
    {
      "cell_type": "code",
      "source": [],
      "metadata": {
        "id": "w_dKli6nZkmM"
      },
      "execution_count": null,
      "outputs": []
    }
  ]
}