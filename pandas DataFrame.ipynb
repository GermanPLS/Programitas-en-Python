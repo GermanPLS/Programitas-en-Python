{
  "nbformat": 4,
  "nbformat_minor": 0,
  "metadata": {
    "colab": {
      "provenance": []
    },
    "kernelspec": {
      "name": "python3",
      "display_name": "Python 3"
    },
    "language_info": {
      "name": "python"
    }
  },
  "cells": [
    {
      "cell_type": "code",
      "execution_count": 3,
      "metadata": {
        "id": "hrvDSi1ZVxQW"
      },
      "outputs": [],
      "source": [
        "import pandas as pd"
      ]
    },
    {
      "cell_type": "code",
      "source": [
        "# creando un Datafame vacio y guardandolo en una variable df\n",
        "\n",
        "df = pd.DataFrame()"
      ],
      "metadata": {
        "id": "k39knEDcW4cr"
      },
      "execution_count": 7,
      "outputs": []
    },
    {
      "cell_type": "code",
      "source": [
        "#imprimo el datafame vacio\n",
        "print(df)"
      ],
      "metadata": {
        "colab": {
          "base_uri": "https://localhost:8080/"
        },
        "id": "f97hKRptXEGb",
        "outputId": "2d8423ac-609b-4c11-b61c-0f47a07353ce"
      },
      "execution_count": 8,
      "outputs": [
        {
          "output_type": "stream",
          "name": "stdout",
          "text": [
            "Empty DataFrame\n",
            "Columns: []\n",
            "Index: []\n"
          ]
        }
      ]
    },
    {
      "cell_type": "code",
      "source": [
        "# creo una lista\n",
        "\n",
        "data = (110,202,303,404,550,650)"
      ],
      "metadata": {
        "id": "dG-1R65mX5Bi"
      },
      "execution_count": 9,
      "outputs": []
    },
    {
      "cell_type": "code",
      "source": [
        "print(data)"
      ],
      "metadata": {
        "colab": {
          "base_uri": "https://localhost:8080/"
        },
        "id": "0M76E11AYEFS",
        "outputId": "16e61300-ed95-435a-eff3-4f367de40bc1"
      },
      "execution_count": 10,
      "outputs": [
        {
          "output_type": "stream",
          "name": "stdout",
          "text": [
            "(110, 202, 303, 404, 550, 650)\n"
          ]
        }
      ]
    },
    {
      "cell_type": "code",
      "source": [
        "df = pd.DataFrame(data, columns = ['Cantidades'])"
      ],
      "metadata": {
        "id": "soJhGydkZCLJ"
      },
      "execution_count": 24,
      "outputs": []
    },
    {
      "cell_type": "code",
      "source": [
        "print(df)"
      ],
      "metadata": {
        "colab": {
          "base_uri": "https://localhost:8080/"
        },
        "id": "rj6wQMGqZYQj",
        "outputId": "08910cdf-684e-45ab-867c-2f4415ab5db2"
      },
      "execution_count": 25,
      "outputs": [
        {
          "output_type": "stream",
          "name": "stdout",
          "text": [
            "   Cantidades\n",
            "0         110\n",
            "1         202\n",
            "2         303\n",
            "3         404\n",
            "4         550\n",
            "5         650\n"
          ]
        }
      ]
    },
    {
      "cell_type": "code",
      "source": [],
      "metadata": {
        "id": "w_dKli6nZkmM"
      },
      "execution_count": null,
      "outputs": []
    }
  ]
}